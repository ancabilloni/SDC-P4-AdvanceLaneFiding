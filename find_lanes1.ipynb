{
 "cells": [
  {
   "cell_type": "code",
   "execution_count": 1,
   "metadata": {
    "collapsed": true
   },
   "outputs": [],
   "source": [
    "# READING IMAGE #\n",
    "import matplotlib.pyplot as plt\n",
    "import matplotlib.image as mpimg\n",
    "import numpy as np\n",
    "import cv2\n",
    "%matplotlib inline\n",
    "# %matplotlib qt\n"
   ]
  },
  {
   "cell_type": "code",
   "execution_count": null,
   "metadata": {
    "collapsed": true
   },
   "outputs": [],
   "source": [
    "#Undistort-Perspective Transform-Warp\n",
    "class UPTW(object):\n",
    "    def __init__(self,image,src,dst):\n",
    "        self.image = image\n",
    "        self.src = src\n",
    "        self.dst = dst\n",
    "    def region_of_interest(self, vertices):\n",
    "        #defining a blank mask to start with\n",
    "        mask = np.zeros_like(self.image)\n",
    "        shape = self.image.shape\n",
    "    \n",
    "    #defining a 3 channel or 1 channel color to fill the mask with depending on the input image\n",
    "        if len(shape) > 2:\n",
    "            channel_count = shape[2]  # i.e. 3 or 4 depending on your image\n",
    "            ignore_mask_color = (255,) * channel_count\n",
    "        else:\n",
    "            ignore_mask_color = 255\n",
    "        \n",
    "        #filling pixels inside the polygon defined by \"vertices\" with the fill color    \n",
    "        cv2.fillPoly(mask, vertices, ignore_mask_color)\n",
    "\n",
    "        #returning the image only where mask pixels are nonzero\n",
    "        self.masked_image = cv2.bitwise_and(self.image, mask)\n",
    "        return self.masked_image\n",
    "    \n",
    "    #Convert to gray and Undistort Image\n",
    "    def undistort(image, objpoints, imgpoints):\n",
    "    #     image = mpimg.imread(image)\n",
    "        gray = graycvt(image)\n",
    "        ret, mtx, dist, rvecs, tvecs = cv2.calibrateCamera(objpoints,imgpoints,gray.shape[::-1],None,None)\n",
    "        undist = cv2.undistort(image,mtx,dist,None,mtx)\n",
    "        return undist\n",
    "        "
   ]
  },
  {
   "cell_type": "code",
   "execution_count": 46,
   "metadata": {
    "collapsed": false
   },
   "outputs": [],
   "source": [
    "class processing(object):\n",
    "    def __init__(self,image):\n",
    "        self.image = image\n",
    "        self.gray = cv2.cvtColor(self.image, cv2.COLOR_RGB2GRAY)\n",
    "    \n",
    "    def grad(self,orient = 'x', k_size = 3, thresh = (0,255)):\n",
    "        if orient == 'x':\n",
    "            sobel_x = cv2.Sobel(self.gray,cv2.CV_64F,1,0,ksize = k_size)\n",
    "            abs_sobel = np.absolute(sobel_x)\n",
    "        elif orient == 'y':\n",
    "            sobel_y = cv2.Sobel(self.gray,cv2.CV_64F,0,1,ksize = k_size)\n",
    "            abs_sobel = np.absolute(sobel_y)\n",
    "        scaled_sobel = np.uint8(255*abs_sobel/np.max(abs_sobel))\n",
    "        self.grad = np.zeros_like(scaled_sobel)\n",
    "        self.grad[(scaled_sobel >= thresh[0]) & (scaled_sobel <= thresh[1])] = 1\n",
    "        return self.grad  \n",
    "\n",
    "    def hsv(self, thresh= (0,255)):\n",
    "        hsv = cv2.cvtColor(self.image,cv2.COLOR_RGB2HSV)\n",
    "        v = hsv[:,:,2]\n",
    "        self.v_binary = np.zeros_like(v)\n",
    "        self.v_binary[(v>thresh[0]) & (v<=thresh[1])] = 1\n",
    "        return self.v_binary \n",
    "\n",
    "    def hls(self, thresh= (0,255)):\n",
    "        hls = cv2.cvtColor(self.image,cv2.COLOR_RGB2HLS)\n",
    "        s = hls[:,:,2]\n",
    "        self.s_binary = np.zeros_like(s)\n",
    "        self.s_binary[(s>thresh[0]) & (s<=thresh[1])] = 1\n",
    "        return self.s_binary \n",
    "\n",
    "    def combined_binary(self):\n",
    "        self.combined_binary = np.zeros_like(self.grad)\n",
    "        self.combined_binary[(self.grad == 1)|(self.s_binary==1)&(self.v_binary == 1)]=1\n",
    "        return self.combined_binary"
   ]
  },
  {
   "cell_type": "code",
   "execution_count": 47,
   "metadata": {
    "collapsed": false
   },
   "outputs": [
    {
     "data": {
      "text/plain": [
       "<matplotlib.image.AxesImage at 0x12bd874b668>"
      ]
     },
     "execution_count": 47,
     "metadata": {},
     "output_type": "execute_result"
    },
    {
     "data": {
      "image/png": "[encoded data removed]",
      "text/plain": [
       "<matplotlib.figure.Figure at 0x12bd8a041d0>"
      ]
     },
     "metadata": {},
     "output_type": "display_data"
    }
   ],
   "source": [
    "image1 = mpimg.imread('./camera_cal/calibration1.jpg')\n",
    "image2 = mpimg.imread('./camera_cal/calibration2.jpg')\n",
    "process = processing(image1)\n",
    "process.grad(k_size = 9, thresh=(30,100))\n",
    "process.hsv(thresh=(75,255))\n",
    "process.hls(thresh=(120,255))\n",
    "# grad = process.grad(thresh=(77,130))\n",
    "# combined_binary = np.zeros_like(grad)\n",
    "# combined_binary[(grad == 1)] = 1\n",
    "plt.imshow(process.combined_binary(),cmap='gray')\n",
    "# f, (ax1,ax2) = plt.subplots(1,2,figsize=(24,9))\n",
    "# f.tight_layout()\n",
    "# # ax1.imshow(process.combined_binary(), cmap='gray')\n",
    "# ax2.imshow(process.hsv(), cmap='gray')\n",
    "# plt.subplots_adjust(left=0.,right=1,top=0.9,bottom=0.)\n",
    "# print(image1.shape)"
   ]
  },
  {
   "cell_type": "code",
   "execution_count": null,
   "metadata": {
    "collapsed": true
   },
   "outputs": [],
   "source": []
  }
 ],
 "metadata": {
  "kernelspec": {
   "display_name": "Python 3",
   "language": "python",
   "name": "python3"
  },
  "language_info": {
   "codemirror_mode": {
    "name": "ipython",
    "version": 3
   },
   "file_extension": ".py",
   "mimetype": "text/x-python",
   "name": "python",
   "nbconvert_exporter": "python",
   "pygments_lexer": "ipython3",
   "version": "3.5.2"
  },
  "widgets": {
   "state": {},
   "version": "1.1.2"
  }
 },
 "nbformat": 4,
 "nbformat_minor": 2
}
